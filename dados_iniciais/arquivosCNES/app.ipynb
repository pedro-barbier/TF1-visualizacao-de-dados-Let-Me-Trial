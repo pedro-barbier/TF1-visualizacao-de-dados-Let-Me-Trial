{
 "cells": [
  {
   "cell_type": "code",
   "execution_count": 5,
   "metadata": {},
   "outputs": [
    {
     "name": "stdout",
     "output_type": "stream",
     "text": [
      "\u001b[33mDEPRECATION: Loading egg at /opt/anaconda3/lib/python3.12/site-packages/pddl_parser-1.2-py3.12.egg is deprecated. pip 24.3 will enforce this behaviour change. A possible replacement is to use pip for package installation.. Discussion can be found at https://github.com/pypa/pip/issues/12330\u001b[0m\u001b[33m\n",
      "\u001b[0mCollecting dbfread\n",
      "  Downloading dbfread-2.0.7-py2.py3-none-any.whl.metadata (3.3 kB)\n",
      "Downloading dbfread-2.0.7-py2.py3-none-any.whl (20 kB)\n",
      "Installing collected packages: dbfread\n",
      "Successfully installed dbfread-2.0.7\n"
     ]
    }
   ],
   "source": [
    "!pip install dbfread"
   ]
  },
  {
   "cell_type": "code",
   "execution_count": 6,
   "metadata": {},
   "outputs": [],
   "source": [
    "import pandas as pd\n",
    "from dbfread import DBF\n",
    "import os"
   ]
  },
  {
   "cell_type": "markdown",
   "metadata": {},
   "source": [
    "## leitura dos .parquet"
   ]
  },
  {
   "cell_type": "code",
   "execution_count": 16,
   "metadata": {},
   "outputs": [
    {
     "name": "stdout",
     "output_type": "stream",
     "text": [
      "(2340714, 208)\n",
      "      CNES CODUFMUN   COD_CEP        CPF_CNPJ PF_PJ NIV_DEP        CNPJ_MAN  \\\n",
      "0  0204811   110001  76954000  00000000000000     3       3  15834732000154   \n",
      "1  0878510   110001  76954000  37142117000110     3       1  00000000000000   \n",
      "2  0986623   110001  76954000  38080272000111     3       1  00000000000000   \n",
      "3  2369958   110001  76954000  00000000000000     3       3  15834732000154   \n",
      "4  2369966   110001  76954000  00000000000000     3       3  15834732000154   \n",
      "\n",
      "  COD_IR REGSAUDE MICR_REG  ... AP07CV02 AP07CV03 AP07CV04 AP07CV05 AP07CV06  \\\n",
      "0                           ...        0        0        0        0        0   \n",
      "1                           ...        0        0        0        0        0   \n",
      "2                           ...        0        0        0        0        0   \n",
      "3                           ...        0        0        0        0        0   \n",
      "4                           ...        0        0        0        0        0   \n",
      "\n",
      "  AP07CV07 ATEND_PR DT_ATUAL COMPETEN NAT_JUR  \n",
      "0        0        1   202210   202305    1244  \n",
      "1        0        1   202210   202305    2062  \n",
      "2        0        1   202210   202305    2062  \n",
      "3        0        1   202302   202305    1244  \n",
      "4        0        1   202210   202305    1244  \n",
      "\n",
      "[5 rows x 208 columns]\n"
     ]
    }
   ],
   "source": [
    "base_path = \"cidade_cnes\"\n",
    "\n",
    "# Lista para armazenar os DataFrames\n",
    "dfs = []\n",
    "\n",
    "# Percorre todas as pastas dentro de cidade_cnes\n",
    "for root, dirs, files in os.walk(base_path):\n",
    "    for file in files:\n",
    "        if file.endswith(\".parquet\"):\n",
    "            file_path = os.path.join(root, file)\n",
    "            df = pd.read_parquet(file_path)\n",
    "            dfs.append(df)\n",
    "\n",
    "# Junta tudo em um único DataFrame\n",
    "df_final = pd.concat(dfs, ignore_index=True)\n",
    "df_final.to_csv(\"df_final_CIDADES.csv\", index=False, encoding=\"utf-8\")\n",
    "print(df_final.shape)\n",
    "print(df_final.head())"
   ]
  },
  {
   "cell_type": "code",
   "execution_count": 20,
   "metadata": {},
   "outputs": [
    {
     "name": "stderr",
     "output_type": "stream",
     "text": [
      "/var/folders/l2/pvs4q03923q89rrlbx70l0xr0000gn/T/ipykernel_6101/3481462831.py:1: DtypeWarning: Columns (20) have mixed types. Specify dtype option on import or set low_memory=False.\n",
      "  head_df = pd.read_csv('df_final_CIDADES.csv').head()\n"
     ]
    },
    {
     "name": "stdout",
     "output_type": "stream",
     "text": [
      "      CNES  CODUFMUN   COD_CEP        CPF_CNPJ  PF_PJ  NIV_DEP  \\\n",
      "0   204811    110001  76954000               0      3        3   \n",
      "1   878510    110001  76954000  37142117000110      3        1   \n",
      "2   986623    110001  76954000  38080272000111      3        1   \n",
      "3  2369958    110001  76954000               0      3        3   \n",
      "4  2369966    110001  76954000               0      3        3   \n",
      "\n",
      "         CNPJ_MAN COD_IR REGSAUDE MICR_REG  ... AP07CV02 AP07CV03  AP07CV04  \\\n",
      "0  15834732000154                           ...        0        0         0   \n",
      "1               0                           ...        0        0         0   \n",
      "2               0                           ...        0        0         0   \n",
      "3  15834732000154                           ...        0        0         0   \n",
      "4  15834732000154                           ...        0        0         0   \n",
      "\n",
      "  AP07CV05 AP07CV06 AP07CV07  ATEND_PR DT_ATUAL COMPETEN  NAT_JUR  \n",
      "0        0        0        0         1   202210   202305     1244  \n",
      "1        0        0        0         1   202210   202305     2062  \n",
      "2        0        0        0         1   202210   202305     2062  \n",
      "3        0        0        0         1   202302   202305     1244  \n",
      "4        0        0        0         1   202210   202305     1244  \n",
      "\n",
      "[5 rows x 208 columns]\n"
     ]
    }
   ],
   "source": [
    "head_df = pd.read_csv('df_final_CIDADES.csv').head()\n",
    "print(head_df)\n",
    "head_df.to_csv('header_df_final_CIDADES.csv', index=False, encoding=\"utf-8\")"
   ]
  },
  {
   "cell_type": "code",
   "execution_count": 21,
   "metadata": {},
   "outputs": [],
   "source": [
    "head_df.to_csv('header_df_final_CIDADES.csv', index=False, encoding=\"utf-8\")"
   ]
  },
  {
   "cell_type": "markdown",
   "metadata": {},
   "source": [
    "## leitura dos .dbf"
   ]
  },
  {
   "cell_type": "code",
   "execution_count": 18,
   "metadata": {},
   "outputs": [
    {
     "name": "stdout",
     "output_type": "stream",
     "text": [
      "Lendo nome_cnes/TCHAP.dbf...\n",
      "Lendo nome_cnes/TCHMS.dbf...\n",
      "Lendo nome_cnes/TCNESMT.dbf...\n",
      "Lendo nome_cnes/TCNESMA.dbf...\n",
      "Lendo nome_cnes/TCHMG.dbf...\n",
      "Lendo nome_cnes/TCNESAC.dbf...\n",
      "Lendo nome_cnes/TCNESMS.dbf...\n",
      "Lendo nome_cnes/TCNESAP.dbf...\n",
      "Lendo nome_cnes/TCHMT.dbf...\n",
      "Lendo nome_cnes/TCNESMG.dbf...\n",
      "Lendo nome_cnes/TCHAC.dbf...\n",
      "Lendo nome_cnes/TCHMA.dbf...\n",
      "Lendo nome_cnes/TCHRS.dbf...\n",
      "Lendo nome_cnes/TCNESSP.dbf...\n",
      "Lendo nome_cnes/TCHRR.dbf...\n",
      "Lendo nome_cnes/TCHSC.dbf...\n",
      "Lendo nome_cnes/TCNESPI.dbf...\n",
      "Lendo nome_cnes/TCNESSE.dbf...\n",
      "Lendo nome_cnes/TCNESRR.dbf...\n",
      "Lendo nome_cnes/TCNESRS.dbf...\n",
      "Lendo nome_cnes/TCHSP.dbf...\n",
      "Lendo nome_cnes/TCHPI.dbf...\n",
      "Lendo nome_cnes/TCHSE.dbf...\n",
      "Lendo nome_cnes/TCNESSC.dbf...\n",
      "Lendo nome_cnes/TCHPE.dbf...\n",
      "Lendo nome_cnes/TCHPR.dbf...\n",
      "Lendo nome_cnes/TCNESPB.dbf...\n",
      "Lendo nome_cnes/TCNESRJ.dbf...\n",
      "Lendo nome_cnes/TCHES.dbf...\n",
      "Lendo nome_cnes/TCNESDF.dbf...\n",
      "Lendo nome_cnes/TCHRN.dbf...\n",
      "Lendo nome_cnes/TCNESPA.dbf...\n",
      "Lendo nome_cnes/TCHGO.dbf...\n",
      "Lendo nome_cnes/TCHRO.dbf...\n",
      "Lendo nome_cnes/TCHDF.dbf...\n",
      "Lendo nome_cnes/TCNESPE.dbf...\n",
      "Lendo nome_cnes/TCNESPR.dbf...\n",
      "Lendo nome_cnes/TCNESES.dbf...\n",
      "Lendo nome_cnes/TCHPB.dbf...\n",
      "Lendo nome_cnes/TCHRJ.dbf...\n",
      "Lendo nome_cnes/TCNESRO.dbf...\n",
      "Lendo nome_cnes/TCNESRN.dbf...\n",
      "Lendo nome_cnes/TCNESGO.dbf...\n",
      "Lendo nome_cnes/TCHPA.dbf...\n",
      "Lendo nome_cnes/TCNESBR.dbf...\n",
      "Lendo nome_cnes/TCHTO.dbf...\n",
      "Lendo nome_cnes/TCHAL.dbf...\n",
      "Lendo nome_cnes/TCHAM.dbf...\n",
      "Lendo nome_cnes/TCHCE.dbf...\n",
      "Lendo nome_cnes/TCHBA.dbf...\n",
      "Lendo nome_cnes/TCNESTO.dbf...\n",
      "Lendo nome_cnes/TCHBR.dbf...\n",
      "Lendo nome_cnes/TCNESAM.dbf...\n",
      "Lendo nome_cnes/TCNESCE.dbf...\n",
      "Lendo nome_cnes/TCNESBA.dbf...\n",
      "Lendo nome_cnes/TCNESAL.dbf...\n"
     ]
    }
   ],
   "source": [
    "folder = \"nome_cnes\"\n",
    "\n",
    "# Lista para guardar os DataFrames\n",
    "dfs = []\n",
    "\n",
    "# Itera por todos os arquivos da pasta\n",
    "for file in os.listdir(folder):\n",
    "    if file.endswith(\".dbf\"):\n",
    "        file_path = os.path.join(folder, file)\n",
    "        print(f\"Lendo {file_path}...\")\n",
    "        # Lê o .dbf e transforma em DataFrame\n",
    "        dbf = DBF(file_path, load=True, encoding='latin1')  # encoding pode variar\n",
    "        df = pd.DataFrame(iter(dbf))\n",
    "        dfs.append(df)\n",
    "\n",
    "# Junta tudo\n",
    "df_final = pd.concat(dfs, ignore_index=True)\n",
    "\n",
    "# Salva em CSV\n",
    "df_final.to_csv('df_final_NOMES.csv', index=False, encoding=\"utf-8\")"
   ]
  },
  {
   "cell_type": "markdown",
   "metadata": {},
   "source": [
    "## Concatenando os dois pelo mesmo CNES"
   ]
  },
  {
   "cell_type": "code",
   "execution_count": 22,
   "metadata": {},
   "outputs": [
    {
     "name": "stderr",
     "output_type": "stream",
     "text": [
      "/var/folders/l2/pvs4q03923q89rrlbx70l0xr0000gn/T/ipykernel_6101/2711702242.py:2: DtypeWarning: Columns (20) have mixed types. Specify dtype option on import or set low_memory=False.\n",
      "  df_cidades = pd.read_csv(\"df_final_CIDADES.csv\")\n"
     ]
    }
   ],
   "source": [
    "# Lê os dois arquivos\n",
    "df_cidades = pd.read_csv(\"df_final_CIDADES.csv\")\n",
    "df_nomes = pd.read_csv(\"df_final_NOMES.csv\")\n",
    "\n",
    "# Faz o merge (inner join pela coluna CNES)\n",
    "df_union = pd.merge(df_cidades, df_nomes, on=\"CNES\", how=\"inner\")\n",
    "\n",
    "# Salva em novo CSV\n",
    "df_union.to_csv(\"union.csv\", index=False, encoding=\"utf-8\")"
   ]
  }
 ],
 "metadata": {
  "kernelspec": {
   "display_name": "base",
   "language": "python",
   "name": "python3"
  },
  "language_info": {
   "codemirror_mode": {
    "name": "ipython",
    "version": 3
   },
   "file_extension": ".py",
   "mimetype": "text/x-python",
   "name": "python",
   "nbconvert_exporter": "python",
   "pygments_lexer": "ipython3",
   "version": "3.12.4"
  }
 },
 "nbformat": 4,
 "nbformat_minor": 2
}
