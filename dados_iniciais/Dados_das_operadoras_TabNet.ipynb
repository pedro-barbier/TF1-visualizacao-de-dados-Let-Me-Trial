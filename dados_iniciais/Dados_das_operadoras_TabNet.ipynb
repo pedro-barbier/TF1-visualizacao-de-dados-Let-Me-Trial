{
 "cells": [
  {
   "cell_type": "markdown",
   "id": "83aea1d8",
   "metadata": {},
   "source": [
    "Bibliotecas importantes"
   ]
  },
  {
   "cell_type": "code",
   "execution_count": null,
   "id": "29e7b97c",
   "metadata": {},
   "outputs": [],
   "source": [
    "import pandas as pd\n",
    "import plotly.express as px"
   ]
  },
  {
   "cell_type": "markdown",
   "id": "7acc65c0",
   "metadata": {},
   "source": [
    "# Tratamento para \"Dados_das_operadoras_TabNet.csv\""
   ]
  },
  {
   "cell_type": "markdown",
   "id": "165abe3f",
   "metadata": {},
   "source": [
    "Entendimento inicial"
   ]
  },
  {
   "cell_type": "code",
   "execution_count": null,
   "id": "7f1227b0",
   "metadata": {},
   "outputs": [],
   "source": [
    "# Leitura dos dados\n",
    "path = \"Dados_das_operadoras_TabNet.csv\"\n",
    "df_dados_das_operadoras_tabnet = pd.read_csv(path, sep=';', encoding='utf-8')\n",
    "df_dados_das_operadoras_tabnet_novo = df_dados_das_operadoras_tabnet.copy()"
   ]
  },
  {
   "cell_type": "code",
   "execution_count": null,
   "id": "e39f5933",
   "metadata": {},
   "outputs": [
    {
     "name": "stdout",
     "output_type": "stream",
     "text": [
      "Formato do dataset: (971, 3)\n",
      "\n",
      "Colunas disponíveis:\n",
      " ['NCTId', 'Sponsor', 'Locations']\n",
      "\n",
      "Tipos de dados:\n",
      " NCTId        object\n",
      "Sponsor      object\n",
      "Locations    object\n",
      "dtype: object\n",
      "\n",
      "Valores ausentes:\n",
      " NCTId        0\n",
      "Sponsor      0\n",
      "Locations    0\n",
      "dtype: int64\n"
     ]
    }
   ],
   "source": [
    "print(\"Formato do dataset:\", df_dados_das_operadoras_tabnet.shape)\n",
    "print(\"\\nColunas disponíveis:\\n\", df_dados_das_operadoras_tabnet.columns.tolist())\n",
    "print(\"\\nTipos de dados:\\n\", df_dados_das_operadoras_tabnet.dtypes)\n",
    "print(\"\\nValores ausentes:\\n\", df_dados_das_operadoras_tabnet.isna().sum())"
   ]
  },
  {
   "cell_type": "code",
   "execution_count": null,
   "id": "7ef2f4f2",
   "metadata": {},
   "outputs": [
    {
     "data": {
      "text/html": [
       "<div>\n",
       "<style scoped>\n",
       "    .dataframe tbody tr th:only-of-type {\n",
       "        vertical-align: middle;\n",
       "    }\n",
       "\n",
       "    .dataframe tbody tr th {\n",
       "        vertical-align: top;\n",
       "    }\n",
       "\n",
       "    .dataframe thead th {\n",
       "        text-align: right;\n",
       "    }\n",
       "</style>\n",
       "<table border=\"1\" class=\"dataframe\">\n",
       "  <thead>\n",
       "    <tr style=\"text-align: right;\">\n",
       "      <th></th>\n",
       "      <th>NCTId</th>\n",
       "      <th>Sponsor</th>\n",
       "      <th>Locations</th>\n",
       "    </tr>\n",
       "  </thead>\n",
       "  <tbody>\n",
       "    <tr>\n",
       "      <th>0</th>\n",
       "      <td>NCT01495533</td>\n",
       "      <td>University Hospital, Saarland</td>\n",
       "      <td>Danta Pazzanese Heart Institute, São Paulo, Br...</td>\n",
       "    </tr>\n",
       "    <tr>\n",
       "      <th>1</th>\n",
       "      <td>NCT02893852</td>\n",
       "      <td>Federal University of Minas Gerais</td>\n",
       "      <td>Federal University of Minas Gerais, Belo Horiz...</td>\n",
       "    </tr>\n",
       "    <tr>\n",
       "      <th>2</th>\n",
       "      <td>NCT00325676</td>\n",
       "      <td>Takeda</td>\n",
       "      <td>Altana Pharma/Nycomed, Belo Horizonte-MG, Braz...</td>\n",
       "    </tr>\n",
       "    <tr>\n",
       "      <th>3</th>\n",
       "      <td>NCT05864417</td>\n",
       "      <td>Johnson &amp; Johnson Consumer Inc. (J&amp;JCI)</td>\n",
       "      <td>Allergisa Pesquisa Dermato-Cosmética Ltda, Cam...</td>\n",
       "    </tr>\n",
       "    <tr>\n",
       "      <th>4</th>\n",
       "      <td>NCT03190850</td>\n",
       "      <td>Hospital de Clinicas de Porto Alegre</td>\n",
       "      <td>Hospital de Clinicas de Porto Alegre, Porto Al...</td>\n",
       "    </tr>\n",
       "  </tbody>\n",
       "</table>\n",
       "</div>"
      ],
      "text/plain": [
       "         NCTId                                  Sponsor  \\\n",
       "0  NCT01495533            University Hospital, Saarland   \n",
       "1  NCT02893852       Federal University of Minas Gerais   \n",
       "2  NCT00325676                                   Takeda   \n",
       "3  NCT05864417  Johnson & Johnson Consumer Inc. (J&JCI)   \n",
       "4  NCT03190850     Hospital de Clinicas de Porto Alegre   \n",
       "\n",
       "                                           Locations  \n",
       "0  Danta Pazzanese Heart Institute, São Paulo, Br...  \n",
       "1  Federal University of Minas Gerais, Belo Horiz...  \n",
       "2  Altana Pharma/Nycomed, Belo Horizonte-MG, Braz...  \n",
       "3  Allergisa Pesquisa Dermato-Cosmética Ltda, Cam...  \n",
       "4  Hospital de Clinicas de Porto Alegre, Porto Al...  "
      ]
     },
     "metadata": {},
     "output_type": "display_data"
    }
   ],
   "source": [
    "# Pequena amostra dos dados\n",
    "df_dados_das_operadoras_tabnet.head()"
   ]
  },
  {
   "cell_type": "markdown",
   "id": "4d67ef6e",
   "metadata": {},
   "source": [
    "Tratamento"
   ]
  },
  {
   "cell_type": "code",
   "execution_count": null,
   "id": "48aba99b",
   "metadata": {},
   "outputs": [],
   "source": [
    "df_dados_das_operadoras_tabnet_novo.to_csv('../dados_tratados/Dados_das_operadoras_TabNet_tratado.csv', index=False)"
   ]
  }
 ],
 "metadata": {
  "language_info": {
   "name": "python"
  }
 },
 "nbformat": 4,
 "nbformat_minor": 5
}
