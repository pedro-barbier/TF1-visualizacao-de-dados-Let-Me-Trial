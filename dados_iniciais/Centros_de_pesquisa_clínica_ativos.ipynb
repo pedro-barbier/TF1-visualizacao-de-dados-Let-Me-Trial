{
 "cells": [
  {
   "cell_type": "markdown",
   "id": "69db95e0",
   "metadata": {},
   "source": [
    "Bibliotecas importantes"
   ]
  },
  {
   "cell_type": "code",
   "execution_count": 1,
   "id": "88058ff1",
   "metadata": {},
   "outputs": [],
   "source": [
    "import pandas as pd\n",
    "import re\n",
    "import plotly.express as px"
   ]
  },
  {
   "cell_type": "markdown",
   "id": "1d3de651",
   "metadata": {},
   "source": [
    "# Tratamento para \"Centros_de_pesquisa_clínica_ativos.csv\""
   ]
  },
  {
   "cell_type": "markdown",
   "id": "d7167f87",
   "metadata": {},
   "source": [
    "Entendimento inicial"
   ]
  },
  {
   "cell_type": "code",
   "execution_count": 41,
   "id": "80fe32db",
   "metadata": {},
   "outputs": [],
   "source": [
    "# Leitura dos dados\n",
    "path = \"Centros_de_pesquisa_clínica_ativos.csv\"\n",
    "df_centros_de_pesquisa = pd.read_csv(path, sep=',', encoding='utf-8')\n",
    "df_centros_de_pesquisa_novo = df_centros_de_pesquisa.copy()"
   ]
  },
  {
   "cell_type": "code",
   "execution_count": 42,
   "id": "da1d9df7",
   "metadata": {},
   "outputs": [
    {
     "name": "stdout",
     "output_type": "stream",
     "text": [
      "Formato do dataset: (971, 3)\n",
      "\n",
      "Colunas disponíveis:\n",
      " ['NCTId', 'Sponsor', 'Locations']\n",
      "\n",
      "Tipos de dados:\n",
      " NCTId        object\n",
      "Sponsor      object\n",
      "Locations    object\n",
      "dtype: object\n",
      "\n",
      "Valores ausentes:\n",
      " NCTId        0\n",
      "Sponsor      0\n",
      "Locations    0\n",
      "dtype: int64\n"
     ]
    }
   ],
   "source": [
    "print(\"Formato do dataset:\", df_centros_de_pesquisa.shape)\n",
    "print(\"\\nColunas disponíveis:\\n\", df_centros_de_pesquisa.columns.tolist())\n",
    "print(\"\\nTipos de dados:\\n\", df_centros_de_pesquisa.dtypes)\n",
    "print(\"\\nValores ausentes:\\n\", df_centros_de_pesquisa.isna().sum())"
   ]
  },
  {
   "cell_type": "code",
   "execution_count": 43,
   "id": "590e64c0",
   "metadata": {},
   "outputs": [
    {
     "data": {
      "text/html": [
       "<div>\n",
       "<style scoped>\n",
       "    .dataframe tbody tr th:only-of-type {\n",
       "        vertical-align: middle;\n",
       "    }\n",
       "\n",
       "    .dataframe tbody tr th {\n",
       "        vertical-align: top;\n",
       "    }\n",
       "\n",
       "    .dataframe thead th {\n",
       "        text-align: right;\n",
       "    }\n",
       "</style>\n",
       "<table border=\"1\" class=\"dataframe\">\n",
       "  <thead>\n",
       "    <tr style=\"text-align: right;\">\n",
       "      <th></th>\n",
       "      <th>NCTId</th>\n",
       "      <th>Sponsor</th>\n",
       "      <th>Locations</th>\n",
       "    </tr>\n",
       "  </thead>\n",
       "  <tbody>\n",
       "    <tr>\n",
       "      <th>0</th>\n",
       "      <td>NCT01495533</td>\n",
       "      <td>University Hospital, Saarland</td>\n",
       "      <td>Danta Pazzanese Heart Institute, São Paulo, Br...</td>\n",
       "    </tr>\n",
       "    <tr>\n",
       "      <th>1</th>\n",
       "      <td>NCT02893852</td>\n",
       "      <td>Federal University of Minas Gerais</td>\n",
       "      <td>Federal University of Minas Gerais, Belo Horiz...</td>\n",
       "    </tr>\n",
       "    <tr>\n",
       "      <th>2</th>\n",
       "      <td>NCT00325676</td>\n",
       "      <td>Takeda</td>\n",
       "      <td>Altana Pharma/Nycomed, Belo Horizonte-MG, Braz...</td>\n",
       "    </tr>\n",
       "    <tr>\n",
       "      <th>3</th>\n",
       "      <td>NCT05864417</td>\n",
       "      <td>Johnson &amp; Johnson Consumer Inc. (J&amp;JCI)</td>\n",
       "      <td>Allergisa Pesquisa Dermato-Cosmética Ltda, Cam...</td>\n",
       "    </tr>\n",
       "    <tr>\n",
       "      <th>4</th>\n",
       "      <td>NCT03190850</td>\n",
       "      <td>Hospital de Clinicas de Porto Alegre</td>\n",
       "      <td>Hospital de Clinicas de Porto Alegre, Porto Al...</td>\n",
       "    </tr>\n",
       "  </tbody>\n",
       "</table>\n",
       "</div>"
      ],
      "text/plain": [
       "         NCTId                                  Sponsor  \\\n",
       "0  NCT01495533            University Hospital, Saarland   \n",
       "1  NCT02893852       Federal University of Minas Gerais   \n",
       "2  NCT00325676                                   Takeda   \n",
       "3  NCT05864417  Johnson & Johnson Consumer Inc. (J&JCI)   \n",
       "4  NCT03190850     Hospital de Clinicas de Porto Alegre   \n",
       "\n",
       "                                           Locations  \n",
       "0  Danta Pazzanese Heart Institute, São Paulo, Br...  \n",
       "1  Federal University of Minas Gerais, Belo Horiz...  \n",
       "2  Altana Pharma/Nycomed, Belo Horizonte-MG, Braz...  \n",
       "3  Allergisa Pesquisa Dermato-Cosmética Ltda, Cam...  \n",
       "4  Hospital de Clinicas de Porto Alegre, Porto Al...  "
      ]
     },
     "execution_count": 43,
     "metadata": {},
     "output_type": "execute_result"
    }
   ],
   "source": [
    "# Pequena amostra dos dados\n",
    "df_centros_de_pesquisa.head()"
   ]
  },
  {
   "cell_type": "markdown",
   "id": "a8500ff2",
   "metadata": {},
   "source": [
    "Tratamento"
   ]
  },
  {
   "cell_type": "code",
   "execution_count": null,
   "id": "8f6a779b",
   "metadata": {},
   "outputs": [],
   "source": [
    "# Separando a coluna 'Locations' em várias linhas separadas por ponto e vírgula\n",
    "# Exemplo de valor: \"Prof. Dr. Emilio Pizzichini, Florianópolis, Brazil; Prof. Dr. Alberto Cukier, São Paulo, Brazil; Prof. Dr. Rafael Stelmach, São Paulo, Brazil\"\n",
    "# Deve ficar:\n",
    "# \"Prof. Dr. Emilio Pizzichini, Florianópolis, Brazil\"\n",
    "# \"Prof. Dr. Alberto Cukier, São Paulo, Brazil\"\n",
    "# \"Prof. Dr. Rafael Stelmach, São Paulo, Brazil\"\n",
    "df_centros_de_pesquisa_novo = df_centros_de_pesquisa_novo.assign(Locations=df_centros_de_pesquisa_novo['Locations'].str.split(';')).explode('Locations').reset_index(drop=True)\n",
    "\n",
    "\n",
    "\n",
    "# Separando a coluna 'Locations' em 'Place' e 'City/state', eliminado o país, mas separando apenas as duas últimas vírgulas\n",
    "df_centros_de_pesquisa_novo[['Place', 'City/state']] = df_centros_de_pesquisa_novo['Locations'].str.rsplit(',', n=2, expand=True)[[0, 1]].apply(lambda x: x.str.strip())\n",
    "\n",
    "df_centros_de_pesquisa_novo.drop(columns=['Locations'], inplace=True)\n",
    "\n",
    "# Devemos também assumir que locais com 'City/state' como 'None' são do mesmo estado que alguma outra instancia do mesmo 'NCTId'\n",
    "# df_centros_de_pesquisa_novo['City/state'] = df_centros_de_pesquisa_novo.groupby('NCTId')['City/state'].transform(lambda x: x.fillna(method='ffill').fillna(method='bfill'))\n",
    "\n",
    "# Ou dropar linhas com 'City/state' como 'None'\n",
    "# df_centros_de_pesquisa_novo = df_centros_de_pesquisa_novo[df_centros_de_pesquisa_novo['City/state'].notna()]\n"
   ]
  },
  {
   "cell_type": "code",
   "execution_count": 51,
   "id": "3aa41dfa",
   "metadata": {},
   "outputs": [
    {
     "data": {
      "text/html": [
       "<div>\n",
       "<style scoped>\n",
       "    .dataframe tbody tr th:only-of-type {\n",
       "        vertical-align: middle;\n",
       "    }\n",
       "\n",
       "    .dataframe tbody tr th {\n",
       "        vertical-align: top;\n",
       "    }\n",
       "\n",
       "    .dataframe thead th {\n",
       "        text-align: right;\n",
       "    }\n",
       "</style>\n",
       "<table border=\"1\" class=\"dataframe\">\n",
       "  <thead>\n",
       "    <tr style=\"text-align: right;\">\n",
       "      <th></th>\n",
       "      <th>NCTId</th>\n",
       "      <th>Sponsor</th>\n",
       "      <th>Place</th>\n",
       "      <th>City/state</th>\n",
       "    </tr>\n",
       "  </thead>\n",
       "  <tbody>\n",
       "    <tr>\n",
       "      <th>0</th>\n",
       "      <td>NCT01495533</td>\n",
       "      <td>University Hospital, Saarland</td>\n",
       "      <td>Danta Pazzanese Heart Institute</td>\n",
       "      <td>São Paulo</td>\n",
       "    </tr>\n",
       "    <tr>\n",
       "      <th>1</th>\n",
       "      <td>NCT02893852</td>\n",
       "      <td>Federal University of Minas Gerais</td>\n",
       "      <td>Federal University of Minas Gerais</td>\n",
       "      <td>Belo Horizonte</td>\n",
       "    </tr>\n",
       "    <tr>\n",
       "      <th>2</th>\n",
       "      <td>NCT00325676</td>\n",
       "      <td>Takeda</td>\n",
       "      <td>Altana Pharma/Nycomed</td>\n",
       "      <td>Belo Horizonte-MG</td>\n",
       "    </tr>\n",
       "    <tr>\n",
       "      <th>3</th>\n",
       "      <td>NCT00325676</td>\n",
       "      <td>Takeda</td>\n",
       "      <td>Altana Pharma/Nycomed</td>\n",
       "      <td>Blumenau - SC</td>\n",
       "    </tr>\n",
       "    <tr>\n",
       "      <th>4</th>\n",
       "      <td>NCT00325676</td>\n",
       "      <td>Takeda</td>\n",
       "      <td>Altana Pharma/Nycomed</td>\n",
       "      <td>Botucatu - SP</td>\n",
       "    </tr>\n",
       "    <tr>\n",
       "      <th>...</th>\n",
       "      <td>...</td>\n",
       "      <td>...</td>\n",
       "      <td>...</td>\n",
       "      <td>...</td>\n",
       "    </tr>\n",
       "    <tr>\n",
       "      <th>3261</th>\n",
       "      <td>NCT05639478</td>\n",
       "      <td>University of Sao Paulo General Hospital</td>\n",
       "      <td>Equipe Multidisciplinar E-Multi</td>\n",
       "      <td>Limeira</td>\n",
       "    </tr>\n",
       "    <tr>\n",
       "      <th>3262</th>\n",
       "      <td>NCT02259543</td>\n",
       "      <td>University of Sao Paulo</td>\n",
       "      <td>School of Dentistry at Bauru- University of Sã...</td>\n",
       "      <td>None</td>\n",
       "    </tr>\n",
       "    <tr>\n",
       "      <th>3263</th>\n",
       "      <td>NCT02259543</td>\n",
       "      <td>University of Sao Paulo</td>\n",
       "      <td>Clinics of Periodontics</td>\n",
       "      <td>Bauru</td>\n",
       "    </tr>\n",
       "    <tr>\n",
       "      <th>3264</th>\n",
       "      <td>NCT02074917</td>\n",
       "      <td>University of Sao Paulo</td>\n",
       "      <td>Instituto de Ortopedia e Traumatologia do HCFMUSP</td>\n",
       "      <td>São Paulo</td>\n",
       "    </tr>\n",
       "    <tr>\n",
       "      <th>3265</th>\n",
       "      <td>NCT05084040</td>\n",
       "      <td>AC Camargo Cancer Center</td>\n",
       "      <td>A.C.Camargo Cancer Center</td>\n",
       "      <td>São Paulo</td>\n",
       "    </tr>\n",
       "  </tbody>\n",
       "</table>\n",
       "<p>3266 rows × 4 columns</p>\n",
       "</div>"
      ],
      "text/plain": [
       "            NCTId                                   Sponsor  \\\n",
       "0     NCT01495533             University Hospital, Saarland   \n",
       "1     NCT02893852        Federal University of Minas Gerais   \n",
       "2     NCT00325676                                    Takeda   \n",
       "3     NCT00325676                                    Takeda   \n",
       "4     NCT00325676                                    Takeda   \n",
       "...           ...                                       ...   \n",
       "3261  NCT05639478  University of Sao Paulo General Hospital   \n",
       "3262  NCT02259543                   University of Sao Paulo   \n",
       "3263  NCT02259543                   University of Sao Paulo   \n",
       "3264  NCT02074917                   University of Sao Paulo   \n",
       "3265  NCT05084040                  AC Camargo Cancer Center   \n",
       "\n",
       "                                                  Place         City/state  \n",
       "0                       Danta Pazzanese Heart Institute          São Paulo  \n",
       "1                    Federal University of Minas Gerais     Belo Horizonte  \n",
       "2                                 Altana Pharma/Nycomed  Belo Horizonte-MG  \n",
       "3                                 Altana Pharma/Nycomed      Blumenau - SC  \n",
       "4                                 Altana Pharma/Nycomed      Botucatu - SP  \n",
       "...                                                 ...                ...  \n",
       "3261                    Equipe Multidisciplinar E-Multi            Limeira  \n",
       "3262  School of Dentistry at Bauru- University of Sã...               None  \n",
       "3263                            Clinics of Periodontics              Bauru  \n",
       "3264  Instituto de Ortopedia e Traumatologia do HCFMUSP          São Paulo  \n",
       "3265                          A.C.Camargo Cancer Center          São Paulo  \n",
       "\n",
       "[3266 rows x 4 columns]"
      ]
     },
     "execution_count": 51,
     "metadata": {},
     "output_type": "execute_result"
    }
   ],
   "source": [
    "df_centros_de_pesquisa_novo"
   ]
  },
  {
   "cell_type": "code",
   "execution_count": null,
   "id": "9ee875b8",
   "metadata": {},
   "outputs": [],
   "source": [
    "df_centros_de_pesquisa_novo.to_csv('../dados_tratados/Centros_de_pesquisa_cinica_ativos_tratado.csv', sep=';', index=False)"
   ]
  }
 ],
 "metadata": {
  "kernelspec": {
   "display_name": "base",
   "language": "python",
   "name": "python3"
  },
  "language_info": {
   "codemirror_mode": {
    "name": "ipython",
    "version": 3
   },
   "file_extension": ".py",
   "mimetype": "text/x-python",
   "name": "python",
   "nbconvert_exporter": "python",
   "pygments_lexer": "ipython3",
   "version": "3.12.3"
  }
 },
 "nbformat": 4,
 "nbformat_minor": 5
}
